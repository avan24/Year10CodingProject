{
 "cells": [
  {
   "cell_type": "code",
   "execution_count": 3,
   "metadata": {
    "id": "EGYIhswPifGm"
   },
   "outputs": [],
   "source": [
    "import matplotlib.pyplot as plt\n",
    "from matplotlib import transforms\n",
    "%matplotlib inline\n",
    "import pandas as pd\n",
    "import csv"
   ]
  },
  {
   "cell_type": "code",
   "execution_count": 4,
   "metadata": {
    "id": "35gHOWERiszM"
   },
   "outputs": [],
   "source": [
    "#function to read in a file and put the contents in a list\n",
    "#input parameter: a csv file name\n",
    "#result:  returns a list\n",
    "def loadList(fileName):\n",
    "  with open(fileName, newline='') as f:\n",
    "    reader = csv.reader(f)\n",
    "    dataList = list(reader)\n",
    "  return dataList"
   ]
  },
  {
   "cell_type": "code",
   "execution_count": 5,
   "metadata": {
    "id": "J1-zmNx5iwog"
   },
   "outputs": [],
   "source": [
    "songs = loadList('songs.csv')\n",
    "data = loadList('fullData.csv')"
   ]
  },
  {
   "cell_type": "code",
   "execution_count": 6,
   "metadata": {
    "id": "M0OdDZAgjMyV"
   },
   "outputs": [],
   "source": [
    "for s in range(len(songs)):\n",
    "    songs[s][0] = songs[s][0].strip()\n",
    "    songs[s][1] = int(songs[s][1])"
   ]
  },
  {
   "cell_type": "code",
   "execution_count": 7,
   "metadata": {
    "id": "8GHUV1ItjQGU"
   },
   "outputs": [],
   "source": [
    "for i in range(0, len(data)):\n",
    "    for j in range(0, 11):\n",
    "        data[i][j] = data[i][j].strip()"
   ]
  },
  {
   "cell_type": "code",
   "execution_count": 8,
   "metadata": {
    "colab": {
     "base_uri": "https://localhost:8080/"
    },
    "id": "K4gPTY25jTEr",
    "outputId": "fb281934-0be3-47c9-aba5-f43a4a203b9f"
   },
   "outputs": [
    {
     "name": "stdout",
     "output_type": "stream",
     "text": [
      "{'18 Fifth Symphony (First Movement)': 11, '12 Tchakrulo': 10, '16 Rite of Spring (Sacrificial Dance)': 10, \"8 Men's House Song\": 9, '3 Percussion (Senegal)': 9, '15 Bagpipes (Azerbaijan)': 9, '25 Jaat Kahan Ho': 9, '21 The Fairie Round': 9, '7 Johnny B. Goode': 8, '14 Melancholy Blues': 8, \"4 Pygmy Girls' Initiation Song\": 8, '13 Panpipes and Drum (Peru)': 7, '2 Kinds of Flowers': 7, '5 Morning Star Devil Bird': 7, '6 El Cascabel': 7, '22 Panpipes (Solomon Islands)': 7, '27 String Quartet No. 13 in B flat': 7, '10 Gavotte en rondeaux': 7, '1 Brandenburg Concerto (First Movement)': 6, '19 Izlel je Delyo Hagdutin': 6, '20 Night Chant': 6, '26 Dark Was the Night': 6, \"9 Tsuru No Sugomori (Crane's Nest)\": 6, '11 The Magic Flute (Queen of the Night aria)': 5, '17 The Well-Tempered Clavier': 4, '23 Wedding song': 4, '24 Flowing Streams': 16}\n"
     ]
    }
   ],
   "source": [
    "songList = dict(songs)\n",
    "for s in range (0, len(songs)):\n",
    "    for d in range (0, len(data)):\n",
    "        for song in range (1, 11):\n",
    "            if data[d][song] == songs[s][0]:\n",
    "                songList[songs[s][0]] += 1\n",
    "print(songList)"
   ]
  },
  {
   "cell_type": "code",
   "execution_count": 13,
   "metadata": {
    "colab": {
     "base_uri": "https://localhost:8080/"
    },
    "id": "RQS9AtctjWUw",
    "outputId": "0fecea01-c2ed-4cd5-c4b5-c3f15334994e"
   },
   "outputs": [
    {
     "data": {
      "text/plain": [
       "[11,\n",
       " 10,\n",
       " 10,\n",
       " 9,\n",
       " 9,\n",
       " 9,\n",
       " 9,\n",
       " 9,\n",
       " 8,\n",
       " 8,\n",
       " 8,\n",
       " 7,\n",
       " 7,\n",
       " 7,\n",
       " 7,\n",
       " 7,\n",
       " 7,\n",
       " 7,\n",
       " 6,\n",
       " 6,\n",
       " 6,\n",
       " 6,\n",
       " 6,\n",
       " 5,\n",
       " 4,\n",
       " 4,\n",
       " 16]"
      ]
     },
     "execution_count": 13,
     "metadata": {},
     "output_type": "execute_result"
    }
   ],
   "source": [
    "values = []\n",
    "for i in range(0, len(songs)):\n",
    "  songs[i][1] = songList[songs[i][0]]\n",
    "  values.append(songs[i][1])\n",
    "\n",
    "songs\n",
    "values\n",
    "\n",
    "#Adjust the height of the bar graph"
   ]
  },
  {
   "cell_type": "code",
   "execution_count": 11,
   "metadata": {
    "colab": {
     "base_uri": "https://localhost:8080/",
     "height": 265
    },
    "id": "lZHEtfy0no47",
    "outputId": "01c07ffb-809e-44c1-bbb8-f61c9ecd880b",
    "scrolled": true
   },
   "outputs": [
    {
     "data": {
      "image/png": "[encoded data removed]",
      "text/plain": [
       "<Figure size 432x288 with 1 Axes>"
      ]
     },
     "metadata": {
      "needs_background": "light"
     },
     "output_type": "display_data"
    }
   ],
   "source": [
    "plt.hist(values,bins=[0,6,9,11,36], rwidth=0.95)\n",
    "plt.show()\n",
    "\n",
    "#Adjust the width of the bar graph"
   ]
  },
  {
   "cell_type": "code",
   "execution_count": null,
   "metadata": {},
   "outputs": [],
   "source": []
  },
  {
   "cell_type": "code",
   "execution_count": null,
   "metadata": {},
   "outputs": [],
   "source": []
  },
  {
   "cell_type": "code",
   "execution_count": null,
   "metadata": {},
   "outputs": [],
   "source": []
  },
  {
   "cell_type": "code",
   "execution_count": null,
   "metadata": {},
   "outputs": [],
   "source": []
  }
 ],
 "metadata": {
  "colab": {
   "collapsed_sections": [],
   "name": "Task9.ipynb",
   "provenance": []
  },
  "kernelspec": {
   "display_name": "Python 3 (ipykernel)",
   "language": "python",
   "name": "python3"
  },
  "language_info": {
   "codemirror_mode": {
    "name": "ipython",
    "version": 3
   },
   "file_extension": ".py",
   "mimetype": "text/x-python",
   "name": "python",
   "nbconvert_exporter": "python",
   "pygments_lexer": "ipython3",
   "version": "3.10.0"
  }
 },
 "nbformat": 4,
 "nbformat_minor": 1
}
