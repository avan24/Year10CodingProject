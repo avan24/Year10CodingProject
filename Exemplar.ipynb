{
 "cells": [
  {
   "cell_type": "code",
   "execution_count": 3,
   "id": "1254e1d7",
   "metadata": {},
   "outputs": [],
   "source": [
    "#Exemplar Notebook"
   ]
  },
  {
   "cell_type": "code",
   "execution_count": 14,
   "id": "ba8dc428",
   "metadata": {},
   "outputs": [],
   "source": [
    "import matplotlib.pyplot as plt\n",
    "%matplotlib inline\n",
    "import pandas as pd\n",
    "import io\n",
    "import numpy as mp\n",
    "import csv"
   ]
  },
  {
   "cell_type": "code",
   "execution_count": 15,
   "id": "c3236de9",
   "metadata": {},
   "outputs": [],
   "source": [
    "#function to read in a file and put the contents in a list\n",
    "#input parameter: a csv file name\n",
    "#result:  returns a list\n",
    "def loadList(fileName):\n",
    "  with open(fileName, newline='') as f:\n",
    "    reader = csv.reader(f)\n",
    "    dataList = list(reader)\n",
    "  return dataList"
   ]
  },
  {
   "cell_type": "code",
   "execution_count": 16,
   "id": "0079fd58",
   "metadata": {},
   "outputs": [],
   "source": [
    "dictionary = loadList('dictionary.csv')\n",
    "summer = loadList('summer.csv')"
   ]
  },
  {
   "cell_type": "code",
   "execution_count": 17,
   "id": "724f9cc3",
   "metadata": {},
   "outputs": [
    {
     "name": "stdout",
     "output_type": "stream",
     "text": [
      "Country - Code - Population - GDP per Capita\n",
      "Afghanistan - AFG - 32526562 - 594.323081219966\n",
      "Albania - ALB - 2889167 - 3945.21758150914\n",
      "Algeria - ALG - 39666519 - 4206.03123244958\n",
      "American Samoa* - ASA - 55538 - \n"
     ]
    }
   ],
   "source": [
    "for i in range(0,5):\n",
    "  print (dictionary[i][0] + ' - ' + dictionary[i][1] + ' - ' + dictionary[i][2] + ' - ' + dictionary[i][3]) "
   ]
  },
  {
   "cell_type": "code",
   "execution_count": 18,
   "id": "175adf94",
   "metadata": {},
   "outputs": [
    {
     "name": "stdout",
     "output_type": "stream",
     "text": [
      "Year - City - Sport - Discipline - Athlete - Country - Gender - Event - Medal\n",
      "1900 - Paris - Aquatics - Swimming - HALMAY, Zoltan - HUN - Men - 1500M Freestyle - Bronze\n",
      "1900 - Paris - Aquatics - Swimming - JARVIS, John Arthur - GBR - Men - 1500M Freestyle - Gold\n",
      "1900 - Paris - Aquatics - Swimming - WAHLE, Otto - AUT - Men - 1500M Freestyle - Silver\n",
      "1900 - Paris - Aquatics - Swimming - DROST, Johannes - NED - Men - 200M Backstroke - Bronze\n"
     ]
    }
   ],
   "source": [
    "for i in range(0, 5):\n",
    "  print (summer[i][0] + ' - ' + summer[i][1] + ' - ' + summer[i][2] + ' - ' + summer[i][3] + ' - ' + summer[i][4] + ' - ' + summer[i][5] + ' - ' + summer[i][6] + ' - ' + summer[i][7] + ' - ' + summer[i][8])"
   ]
  },
  {
   "cell_type": "code",
   "execution_count": 19,
   "id": "b1380790",
   "metadata": {},
   "outputs": [],
   "source": [
    "#Manipulate the data into a useful form For this example, \n",
    "#identify countries that have won more than 100 medals since the year 2000\n",
    "#and count their gold, silver and bronze medals. Also get the full country name from the dictionary. \n",
    "#Note that population is converted to a number in millions."
   ]
  },
  {
   "cell_type": "code",
   "execution_count": 20,
   "id": "5b2b7ec2",
   "metadata": {},
   "outputs": [
    {
     "name": "stdout",
     "output_type": "stream",
     "text": [
      "[['Argentina', 47, 33, 58, 138, 43.416755], ['Australia', 159, 225, 219, 603, 23.781169], ['Brazil', 46, 99, 77, 222, 207.847528], ['Canada', 19, 48, 72, 139, 35.851774], ['China', 221, 147, 117, 485, 1371.22], ['Cuba', 60, 80, 52, 192, 11.389562], ['France', 98, 93, 86, 277, 66.808385], ['Germany', 159, 112, 192, 463, 81.413145], ['Hungary', 77, 52, 17, 146, 9.844686], ['Italy', 70, 89, 118, 277, 60.802085], ['Japan', 56, 105, 111, 272, 126.958472], ['Korea, South', 85, 78, 103, 266, 50.617045], ['Netherlands', 92, 126, 68, 286, 16.93652], ['Russia', 203, 193, 257, 653, 144.096812], ['Spain', 20, 117, 69, 206, 46.418269], ['Ukraine', 31, 37, 71, 139, 45.1982], ['United Kingdom', 118, 100, 97, 315, 65.138232], ['United States', 518, 307, 252, 1077, 321.41882]]\n"
     ]
    }
   ],
   "source": [
    "masterList = []\n",
    "for i in range (1, len(dictionary)):\n",
    "  countryCode = dictionary[i][1]\n",
    "  c = 1\n",
    "  gold=0\n",
    "  silver=0\n",
    "  bronze=0\n",
    "  for c in range(1, len(summer)):\n",
    "    if int(summer[c][0]) > 1999:\n",
    "      if summer[c][5] == countryCode:\n",
    "        if summer[c][8] == 'Gold':\n",
    "          gold = gold + 1\n",
    "        elif summer[c][8] == 'Silver':\n",
    "          silver = silver + 1\n",
    "        else:\n",
    "          bronze = bronze + 1\n",
    "  totalMedals = gold + silver + bronze\n",
    "  if totalMedals >= 100:\n",
    "    masterList.append([dictionary[i][0], gold, silver, bronze, totalMedals, int(dictionary[i][2])/1000000])\n",
    "\n",
    "print (masterList)"
   ]
  },
  {
   "cell_type": "code",
   "execution_count": 21,
   "id": "2de8b31b",
   "metadata": {},
   "outputs": [
    {
     "data": {
      "text/html": [
       "<div>\n",
       "<style scoped>\n",
       "    .dataframe tbody tr th:only-of-type {\n",
       "        vertical-align: middle;\n",
       "    }\n",
       "\n",
       "    .dataframe tbody tr th {\n",
       "        vertical-align: top;\n",
       "    }\n",
       "\n",
       "    .dataframe thead th {\n",
       "        text-align: right;\n",
       "    }\n",
       "</style>\n",
       "<table border=\"1\" class=\"dataframe\">\n",
       "  <thead>\n",
       "    <tr style=\"text-align: right;\">\n",
       "      <th></th>\n",
       "      <th>Country</th>\n",
       "      <th>Gold</th>\n",
       "      <th>Silver</th>\n",
       "      <th>Bronze</th>\n",
       "      <th>Total</th>\n",
       "      <th>Population</th>\n",
       "    </tr>\n",
       "  </thead>\n",
       "  <tbody>\n",
       "    <tr>\n",
       "      <th>0</th>\n",
       "      <td>Argentina</td>\n",
       "      <td>47</td>\n",
       "      <td>33</td>\n",
       "      <td>58</td>\n",
       "      <td>138</td>\n",
       "      <td>43.416755</td>\n",
       "    </tr>\n",
       "    <tr>\n",
       "      <th>1</th>\n",
       "      <td>Australia</td>\n",
       "      <td>159</td>\n",
       "      <td>225</td>\n",
       "      <td>219</td>\n",
       "      <td>603</td>\n",
       "      <td>23.781169</td>\n",
       "    </tr>\n",
       "    <tr>\n",
       "      <th>2</th>\n",
       "      <td>Brazil</td>\n",
       "      <td>46</td>\n",
       "      <td>99</td>\n",
       "      <td>77</td>\n",
       "      <td>222</td>\n",
       "      <td>207.847528</td>\n",
       "    </tr>\n",
       "    <tr>\n",
       "      <th>3</th>\n",
       "      <td>Canada</td>\n",
       "      <td>19</td>\n",
       "      <td>48</td>\n",
       "      <td>72</td>\n",
       "      <td>139</td>\n",
       "      <td>35.851774</td>\n",
       "    </tr>\n",
       "    <tr>\n",
       "      <th>4</th>\n",
       "      <td>China</td>\n",
       "      <td>221</td>\n",
       "      <td>147</td>\n",
       "      <td>117</td>\n",
       "      <td>485</td>\n",
       "      <td>1371.220000</td>\n",
       "    </tr>\n",
       "    <tr>\n",
       "      <th>5</th>\n",
       "      <td>Cuba</td>\n",
       "      <td>60</td>\n",
       "      <td>80</td>\n",
       "      <td>52</td>\n",
       "      <td>192</td>\n",
       "      <td>11.389562</td>\n",
       "    </tr>\n",
       "    <tr>\n",
       "      <th>6</th>\n",
       "      <td>France</td>\n",
       "      <td>98</td>\n",
       "      <td>93</td>\n",
       "      <td>86</td>\n",
       "      <td>277</td>\n",
       "      <td>66.808385</td>\n",
       "    </tr>\n",
       "    <tr>\n",
       "      <th>7</th>\n",
       "      <td>Germany</td>\n",
       "      <td>159</td>\n",
       "      <td>112</td>\n",
       "      <td>192</td>\n",
       "      <td>463</td>\n",
       "      <td>81.413145</td>\n",
       "    </tr>\n",
       "    <tr>\n",
       "      <th>8</th>\n",
       "      <td>Hungary</td>\n",
       "      <td>77</td>\n",
       "      <td>52</td>\n",
       "      <td>17</td>\n",
       "      <td>146</td>\n",
       "      <td>9.844686</td>\n",
       "    </tr>\n",
       "    <tr>\n",
       "      <th>9</th>\n",
       "      <td>Italy</td>\n",
       "      <td>70</td>\n",
       "      <td>89</td>\n",
       "      <td>118</td>\n",
       "      <td>277</td>\n",
       "      <td>60.802085</td>\n",
       "    </tr>\n",
       "    <tr>\n",
       "      <th>10</th>\n",
       "      <td>Japan</td>\n",
       "      <td>56</td>\n",
       "      <td>105</td>\n",
       "      <td>111</td>\n",
       "      <td>272</td>\n",
       "      <td>126.958472</td>\n",
       "    </tr>\n",
       "    <tr>\n",
       "      <th>11</th>\n",
       "      <td>Korea, South</td>\n",
       "      <td>85</td>\n",
       "      <td>78</td>\n",
       "      <td>103</td>\n",
       "      <td>266</td>\n",
       "      <td>50.617045</td>\n",
       "    </tr>\n",
       "    <tr>\n",
       "      <th>12</th>\n",
       "      <td>Netherlands</td>\n",
       "      <td>92</td>\n",
       "      <td>126</td>\n",
       "      <td>68</td>\n",
       "      <td>286</td>\n",
       "      <td>16.936520</td>\n",
       "    </tr>\n",
       "    <tr>\n",
       "      <th>13</th>\n",
       "      <td>Russia</td>\n",
       "      <td>203</td>\n",
       "      <td>193</td>\n",
       "      <td>257</td>\n",
       "      <td>653</td>\n",
       "      <td>144.096812</td>\n",
       "    </tr>\n",
       "    <tr>\n",
       "      <th>14</th>\n",
       "      <td>Spain</td>\n",
       "      <td>20</td>\n",
       "      <td>117</td>\n",
       "      <td>69</td>\n",
       "      <td>206</td>\n",
       "      <td>46.418269</td>\n",
       "    </tr>\n",
       "    <tr>\n",
       "      <th>15</th>\n",
       "      <td>Ukraine</td>\n",
       "      <td>31</td>\n",
       "      <td>37</td>\n",
       "      <td>71</td>\n",
       "      <td>139</td>\n",
       "      <td>45.198200</td>\n",
       "    </tr>\n",
       "    <tr>\n",
       "      <th>16</th>\n",
       "      <td>United Kingdom</td>\n",
       "      <td>118</td>\n",
       "      <td>100</td>\n",
       "      <td>97</td>\n",
       "      <td>315</td>\n",
       "      <td>65.138232</td>\n",
       "    </tr>\n",
       "    <tr>\n",
       "      <th>17</th>\n",
       "      <td>United States</td>\n",
       "      <td>518</td>\n",
       "      <td>307</td>\n",
       "      <td>252</td>\n",
       "      <td>1077</td>\n",
       "      <td>321.418820</td>\n",
       "    </tr>\n",
       "  </tbody>\n",
       "</table>\n",
       "</div>"
      ],
      "text/plain": [
       "           Country  Gold  Silver  Bronze  Total   Population\n",
       "0        Argentina    47      33      58    138    43.416755\n",
       "1        Australia   159     225     219    603    23.781169\n",
       "2           Brazil    46      99      77    222   207.847528\n",
       "3           Canada    19      48      72    139    35.851774\n",
       "4            China   221     147     117    485  1371.220000\n",
       "5             Cuba    60      80      52    192    11.389562\n",
       "6           France    98      93      86    277    66.808385\n",
       "7          Germany   159     112     192    463    81.413145\n",
       "8          Hungary    77      52      17    146     9.844686\n",
       "9            Italy    70      89     118    277    60.802085\n",
       "10           Japan    56     105     111    272   126.958472\n",
       "11    Korea, South    85      78     103    266    50.617045\n",
       "12     Netherlands    92     126      68    286    16.936520\n",
       "13          Russia   203     193     257    653   144.096812\n",
       "14           Spain    20     117      69    206    46.418269\n",
       "15         Ukraine    31      37      71    139    45.198200\n",
       "16  United Kingdom   118     100      97    315    65.138232\n",
       "17   United States   518     307     252   1077   321.418820"
      ]
     },
     "execution_count": 21,
     "metadata": {},
     "output_type": "execute_result"
    }
   ],
   "source": [
    "df = pd.DataFrame(masterList, columns=['Country', 'Gold', 'Silver', 'Bronze', 'Total', 'Population'])\n",
    "df"
   ]
  },
  {
   "cell_type": "code",
   "execution_count": 12,
   "id": "a8ab9020",
   "metadata": {},
   "outputs": [
    {
     "data": {
      "image/png": "[encoded data removed]",
      "text/plain": [
       "<Figure size 432x288 with 1 Axes>"
      ]
     },
     "metadata": {
      "needs_background": "light"
     },
     "output_type": "display_data"
    },
    {
     "data": {
      "text/plain": [
       "<Figure size 2160x1080 with 0 Axes>"
      ]
     },
     "metadata": {},
     "output_type": "display_data"
    }
   ],
   "source": [
    "goldMedals = df.Gold\n",
    "silverMedals = df.Silver\n",
    "bronzeMedals = df.Bronze\n",
    "labels = df.Country\n",
    "legendLabels = ['Gold', 'Silver', 'Bronze']\n",
    "plt.barh(labels, goldMedals, color = 'red')\n",
    "plt.barh(labels,silverMedals, color = 'blue', left = goldMedals)\n",
    "plt.barh(labels,bronzeMedals, color='green', left = goldMedals + silverMedals)\n",
    "plt.xlabel('Country')\n",
    "plt.ylabel('Medal Count')\n",
    "plt.title('Medals Earned since the Year 2000\\n(countries with 100 or more in total)')\n",
    "plt.legend(legendLabels,loc=4)\n",
    "plt.figure(figsize = (30,15))\n",
    "plt.show()"
   ]
  },
  {
   "cell_type": "code",
   "execution_count": 13,
   "id": "08bd5d9e",
   "metadata": {},
   "outputs": [
    {
     "data": {
      "image/png": "[encoded data removed]",
      "text/plain": [
       "<Figure size 2160x1080 with 1 Axes>"
      ]
     },
     "metadata": {
      "needs_background": "light"
     },
     "output_type": "display_data"
    }
   ],
   "source": [
    "x = df.Total\n",
    "y = df.Population\n",
    "p = list(x)\n",
    "labels = list(df.Country)\n",
    "plt.figure(figsize=(30,15))\n",
    "plt.title ('Medals vs Population')\n",
    "plt.scatter(x, y, s = p, c = p)\n",
    "plt.show()"
   ]
  },
  {
   "cell_type": "code",
   "execution_count": null,
   "id": "aea2d4ca",
   "metadata": {},
   "outputs": [],
   "source": []
  },
  {
   "cell_type": "code",
   "execution_count": null,
   "id": "a221d839",
   "metadata": {},
   "outputs": [],
   "source": []
  }
 ],
 "metadata": {
  "kernelspec": {
   "display_name": "Python 3 (ipykernel)",
   "language": "python",
   "name": "python3"
  },
  "language_info": {
   "codemirror_mode": {
    "name": "ipython",
    "version": 3
   },
   "file_extension": ".py",
   "mimetype": "text/x-python",
   "name": "python",
   "nbconvert_exporter": "python",
   "pygments_lexer": "ipython3",
   "version": "3.10.0"
  }
 },
 "nbformat": 4,
 "nbformat_minor": 5
}
