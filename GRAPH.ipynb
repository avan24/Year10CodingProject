{
 "cells": [
  {
   "cell_type": "code",
   "execution_count": 1,
   "id": "be78ee3a",
   "metadata": {},
   "outputs": [],
   "source": [
    "import csv\n",
    "\n",
    "def loadList(fileName):\n",
    "    with open(fileName, newline='') as csv_file:\n",
    "        reader = csv.reader(csv_file)\n",
    "        dataList = list(reader)\n",
    "    return dataList\n",
    "\n"
   ]
  },
  {
   "cell_type": "code",
   "execution_count": 2,
   "id": "788b7f7e",
   "metadata": {
    "scrolled": true
   },
   "outputs": [],
   "source": [
    "\n",
    "demographic = loadList('Demographic.csv')\n"
   ]
  },
  {
   "cell_type": "code",
   "execution_count": 6,
   "id": "77e48bd8",
   "metadata": {
    "scrolled": true
   },
   "outputs": [
    {
     "name": "stdout",
     "output_type": "stream",
     "text": [
      "['', 'Asian', 'White', 'Black', 'Other', 'Non Resident']\n",
      "['Harvard', '370', '559', '146', '195', '214']\n",
      "['Stanford', '413', '488', '116', '292', '197']\n",
      "['UCLA', '2134', '1609', '188', '1325', '482']\n",
      "['University of Virginia', '648', '2143', '268', '250', '201']\n",
      "['University of Florida', '777', '3416', '328', '1333', '250']\n",
      "['Ohio State University', '696', '4777', '484', '455', '676']\n",
      "['UofSanfrancisco', '292', '314', '91', '263', '193']\n",
      "['Michigan State University', '608', '5883', '619', '521', '657']\n",
      "['LSU', '289', '4082', '887', '498', '65']\n",
      "['Clarke University', '57', '404', '27', '71', '62']\n"
     ]
    }
   ],
   "source": [
    "for n in demographic:\n",
    "    print(n)"
   ]
  },
  {
   "cell_type": "code",
   "execution_count": 94,
   "id": "522fa697",
   "metadata": {},
   "outputs": [
    {
     "name": "stdout",
     "output_type": "stream",
     "text": [
      "[24.932614555256063, 37.668463611859835, 9.838274932614555, 13.140161725067385, 14.420485175202154]\n",
      "[27.42363877822045, 32.40371845949535, 7.702523240371846, 19.389110225763613, 13.081009296148737]\n",
      "[37.1906587661206, 28.0411293133496, 3.276402927849425, 23.09166957127919, 8.400139421401185]\n",
      "[18.461538461538463, 61.054131054131055, 7.635327635327635, 7.122507122507122, 5.726495726495727]\n",
      "[12.729357798165136, 55.96330275229357, 5.373525557011796, 21.83813892529489, 4.095674967234601]\n",
      "[9.81941309255079, 67.39559819413093, 6.8284424379232505, 6.419300225733634, 9.5372460496614]\n",
      "[25.32523850823938, 27.23330442324371, 7.8924544666088465, 22.810060711188203, 16.73894189071986]\n",
      "[7.335907335907336, 70.98214285714286, 7.468629343629344, 6.286196911196912, 7.927123552123552]\n",
      "[4.964782683387734, 70.12540800549733, 15.237931626868237, 8.555231059955334, 1.1166466242913589]\n",
      "[9.178743961352657, 65.05636070853463, 4.3478260869565215, 11.43317230273752, 9.98389694041868]\n"
     ]
    },
    {
     "data": {
      "text/plain": [
       "37.668463611859835"
      ]
     },
     "execution_count": 94,
     "metadata": {},
     "output_type": "execute_result"
    }
   ],
   "source": [
    "percentList = []\n",
    "\n",
    "for i in range (1, len(demographic)):\n",
    "    sum = int(demographic[i][1]) + int(demographic[i][2]) + int(demographic[i][3]) + int(demographic[i][4]) + int(demographic[i][5])\n",
    "    percentList.append([int(demographic[i][1])/sum * 100, int(demographic[i][2])/sum * 100, int(demographic[i][3])/sum * 100, int(demographic[i][4])/sum * 100,int(demographic[i][5])/sum * 100])  \n",
    "\n",
    "for n in percentList:\n",
    "    print(n)\n",
    "\n",
    "percentList[0][1]\n",
    "\n",
    "\n",
    "\n",
    "\n",
    "    \n",
    "    \n",
    "    "
   ]
  },
  {
   "cell_type": "code",
   "execution_count": null,
   "id": "bb907272",
   "metadata": {},
   "outputs": [],
   "source": []
  },
  {
   "cell_type": "code",
   "execution_count": null,
   "id": "af67e740",
   "metadata": {},
   "outputs": [],
   "source": []
  }
 ],
 "metadata": {
  "kernelspec": {
   "display_name": "Python 3 (ipykernel)",
   "language": "python",
   "name": "python3"
  },
  "language_info": {
   "codemirror_mode": {
    "name": "ipython",
    "version": 3
   },
   "file_extension": ".py",
   "mimetype": "text/x-python",
   "name": "python",
   "nbconvert_exporter": "python",
   "pygments_lexer": "ipython3",
   "version": "3.10.0"
  }
 },
 "nbformat": 4,
 "nbformat_minor": 5
}
