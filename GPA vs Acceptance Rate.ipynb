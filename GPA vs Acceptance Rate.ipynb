{
 "cells": [
  {
   "cell_type": "code",
   "execution_count": 30,
   "id": "4681e050",
   "metadata": {},
   "outputs": [
    {
     "data": {
      "image/png": "[encoded data removed]",
      "text/plain": [
       "<Figure size 432x288 with 1 Axes>"
      ]
     },
     "metadata": {
      "needs_background": "light"
     },
     "output_type": "display_data"
    }
   ],
   "source": [
    "import matplotlib.pyplot as plt\n",
    "import csv\n",
    "\n",
    "def loadList(fileName):\n",
    "    with open(fileName, newline='') as csv_file:\n",
    "        reader = csv.reader(csv_file)\n",
    "        dataList = list(reader)\n",
    "    return dataList\n",
    "\n",
    "GPA = loadList('GPA.csv')\n",
    "\n",
    "#get the values from the row and column [row][column]\n",
    "Harvard_AR = (GPA[1][1])\n",
    "Harvard_GPA = (GPA[1][2])\n",
    "\n",
    "Stanford_AR = (GPA[2][1])\n",
    "Stanford_GPA = (GPA[2][2])\n",
    "\n",
    "colors = ['b', 'c', 'y', 'm', 'r']\n",
    "\n",
    "HU = plt.scatter(Harvard_AR, Harvard_GPA, marker='o', color=colors[1],label='Harvard')\n",
    "SU = plt.scatter(Stanford_AR, Stanford_GPA, marker='o', color=colors[0],label='Stanford')\n",
    "\n",
    "\n",
    "\n",
    "\n",
    "\n",
    "plt.legend(loc='upper center', bbox_to_anchor=(0.5, -0.05),\n",
    "          fancybox=True, shadow=True, ncol=4)\n",
    "\n",
    "plt.show()"
   ]
  },
  {
   "cell_type": "code",
   "execution_count": null,
   "id": "4b78ea7d",
   "metadata": {},
   "outputs": [],
   "source": []
  }
 ],
 "metadata": {
  "kernelspec": {
   "display_name": "Python 3 (ipykernel)",
   "language": "python",
   "name": "python3"
  },
  "language_info": {
   "codemirror_mode": {
    "name": "ipython",
    "version": 3
   },
   "file_extension": ".py",
   "mimetype": "text/x-python",
   "name": "python",
   "nbconvert_exporter": "python",
   "pygments_lexer": "ipython3",
   "version": "3.10.0"
  }
 },
 "nbformat": 4,
 "nbformat_minor": 5
}
